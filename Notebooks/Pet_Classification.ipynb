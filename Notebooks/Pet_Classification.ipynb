{
  "cells": [
    {
      "cell_type": "markdown",
      "source": [
        "# Pet Classification"
      ],
      "metadata": {
        "id": "NJZwQfhc5noo"
      },
      "id": "NJZwQfhc5noo"
    },
    {
      "cell_type": "markdown",
      "source": [
        "<img src=\"https://encrypted-tbn0.gstatic.com/images?q=tbn:ANd9GcQTUztpDbe0HgdgLwZ1QfSt0LZWzqjuGQKpKlxMRZq_nA&usqp=CAU&ec=48600112\"/>"
      ],
      "metadata": {
        "id": "fZHTsh1v--_T"
      },
      "id": "fZHTsh1v--_T"
    },
    {
      "cell_type": "markdown",
      "source": [
        "# Index: <a class=\"anchor\" id=\"index\"></a>\n",
        "* [1. Library Imports](#imports)\n",
        "* [2. Function Definations](#functions)\n",
        "* [3. Model Defination](#model-defination)\n",
        "* [4. Data Loading](#data-loading)\n",
        "* [5. Model Implementation](#model-implementation)"
      ],
      "metadata": {
        "id": "y-f6vt9DQQGL"
      },
      "id": "y-f6vt9DQQGL"
    },
    {
      "cell_type": "markdown",
      "source": [
        "# Library Imports <a class=\"anchor\" id=\"library-imports\"></a>"
      ],
      "metadata": {
        "id": "lqypJVZ159vP"
      },
      "id": "lqypJVZ159vP"
    },
    {
      "cell_type": "code",
      "execution_count": null,
      "id": "38020439",
      "metadata": {
        "id": "38020439"
      },
      "outputs": [],
      "source": [
        "import time\n",
        "import pandas as pd\n",
        "import numpy as np\n",
        "from transformers import pipeline"
      ]
    },
    {
      "cell_type": "markdown",
      "source": [
        "* [Go to Top](#index)"
      ],
      "metadata": {
        "id": "v0FgK8SK6QLC"
      },
      "id": "v0FgK8SK6QLC"
    },
    {
      "cell_type": "markdown",
      "source": [
        "# Function Defination <a class=\"anchor\" id=\"function-defination\"></a>"
      ],
      "metadata": {
        "id": "0_uLkphA60ha"
      },
      "id": "0_uLkphA60ha"
    },
    {
      "cell_type": "code",
      "execution_count": null,
      "id": "2af641ff",
      "metadata": {
        "id": "2af641ff"
      },
      "outputs": [],
      "source": [
        "# get score for each pet category\n",
        "def find_pet(tweet):\n",
        "    class_to_category = {\n",
        "        'Rabbit|Rat|Hamster|guinea pigs|chinchillas|gerbils|mice': 'Small Animals',\n",
        "        'Chameleons|Anoles|Geckos|Bearded Dragons|Snail': 'Reptiles'\n",
        "    }\n",
        "\n",
        "    # get pet scores\n",
        "    pet = classifier(tweet, pet_labels, multi_label=True)\n",
        "    pet_scores = list(map(lambda x: round(x, 2), pet.get('scores')))\n",
        "    pet_labels_updated = [class_to_category.get(label, label) for label in pet.get('labels')]\n",
        "\n",
        "    # get dictionary for pet classes and scores\n",
        "    pet_scores_dict = dict(zip(pet_labels_updated, pet_scores))\n",
        "\n",
        "    print(pet_scores_dict)\n",
        "    return pet_scores_dict\n",
        "    \n",
        "# pet classification based on scores\n",
        "def get_selected_pets(scores_dict):\n",
        "    threshold = 0.4\n",
        "    if scores_dict is None or pd.isnull(scores_dict):\n",
        "        return 'Overall'\n",
        "    else:\n",
        "        sorted_dict = dict(sorted(scores_dict.items()))\n",
        "        pet_list = [key for key, value in sorted_dict.items() if value > threshold]\n",
        "\n",
        "        # a tweet is overall tweet if it is classified in 0 or more than 1 pet categories\n",
        "        if (len(pet_list) != 1):\n",
        "            return 'Overall'\n",
        "        else:\n",
        "            return pet_list[0]\n",
        "\n",
        "pet_labels = ['Dog', 'Cat', 'Fish', 'Rabbit|Rat|Hamster|guinea pigs|chinchillas|gerbils|mice', 'Chameleons|Anoles|Geckos|Bearded Dragons|Snail', 'Bird']\n"
      ]
    },
    {
      "cell_type": "markdown",
      "source": [
        "* [Go to Top](#index)"
      ],
      "metadata": {
        "id": "uGBVNsiW7CwF"
      },
      "id": "uGBVNsiW7CwF"
    },
    {
      "cell_type": "markdown",
      "source": [
        "# Model Defination <a class=\"anchor\" id=\"model-defination\"></a>"
      ],
      "metadata": {
        "id": "zUHTyIuB8M9L"
      },
      "id": "zUHTyIuB8M9L"
    },
    {
      "cell_type": "code",
      "source": [
        "classifier = pipeline(\"zero-shot-classification\",\n",
        "                      model=\"facebook/bart-large-mnli\")"
      ],
      "metadata": {
        "id": "H6Z9UDRM8Ifb"
      },
      "id": "H6Z9UDRM8Ifb",
      "execution_count": null,
      "outputs": []
    },
    {
      "cell_type": "markdown",
      "source": [
        "* [Go to Top](#index)"
      ],
      "metadata": {
        "id": "wnraIGDD8Xq4"
      },
      "id": "wnraIGDD8Xq4"
    },
    {
      "cell_type": "markdown",
      "source": [
        "# Data Loading <a class=\"anchor\" id=\"data-loading\"></a>"
      ],
      "metadata": {
        "id": "pi09I0nY7FAx"
      },
      "id": "pi09I0nY7FAx"
    },
    {
      "cell_type": "code",
      "execution_count": null,
      "id": "f2aadadb",
      "metadata": {
        "id": "f2aadadb"
      },
      "outputs": [],
      "source": [
        "file_name = \"Petsmart_Data.csv\"\n",
        "df = pd.read_csv(file_name)\n",
        "df.drop(df.loc[df[\"Tweet\"].isnull()].index, inplace=True)\n",
        "df.head()"
      ]
    },
    {
      "cell_type": "markdown",
      "source": [
        "* [Go to Top](#index)"
      ],
      "metadata": {
        "id": "pDujq3NV8bdK"
      },
      "id": "pDujq3NV8bdK"
    },
    {
      "cell_type": "markdown",
      "source": [
        "# Pet Classification Model Implimentation <a class=\"anchor\" id=\"model-implementation\"></a>"
      ],
      "metadata": {
        "id": "VSZihsGW8h8Q"
      },
      "id": "VSZihsGW8h8Q"
    },
    {
      "cell_type": "code",
      "execution_count": null,
      "id": "339e1a3c",
      "metadata": {
        "id": "339e1a3c"
      },
      "outputs": [],
      "source": [
        "start_time = time.time()\n",
        "\n",
        "# populate the pet classification columns\n",
        "df[\"Pet Classification Dictionary\"] = df[\"Tweet\"].apply(lambda tweet: find_pet(tweet))\n",
        "df[\"Pet\"] = df[\"Pet Classification Dictionary\"].apply(get_selected_pets)\n",
        "\n",
        "end_time = time.time()\n",
        "print(\"Time taken: \",end_time-start_time)\n",
        "\n",
        "df"
      ]
    },
    {
      "cell_type": "code",
      "execution_count": null,
      "id": "73bb9f2b",
      "metadata": {
        "id": "73bb9f2b"
      },
      "outputs": [],
      "source": [
        "df.to_csv(file_name)"
      ]
    },
    {
      "cell_type": "markdown",
      "source": [
        "* [Go to Top](#index)"
      ],
      "metadata": {
        "id": "PQbyu24G99rd"
      },
      "id": "PQbyu24G99rd"
    },
    {
      "cell_type": "code",
      "execution_count": null,
      "id": "ce71ae5c",
      "metadata": {
        "id": "ce71ae5c"
      },
      "outputs": [],
      "source": []
    }
  ],
  "metadata": {
    "kernelspec": {
      "display_name": "Python 3 (ipykernel)",
      "language": "python",
      "name": "python3"
    },
    "language_info": {
      "codemirror_mode": {
        "name": "ipython",
        "version": 3
      },
      "file_extension": ".py",
      "mimetype": "text/x-python",
      "name": "python",
      "nbconvert_exporter": "python",
      "pygments_lexer": "ipython3",
      "version": "3.9.12"
    },
    "colab": {
      "provenance": []
    }
  },
  "nbformat": 4,
  "nbformat_minor": 5
}